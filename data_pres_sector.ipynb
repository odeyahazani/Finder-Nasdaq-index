{
 "cells": [
  {
   "metadata": {},
   "cell_type": "markdown",
   "source": "Importing Necessary Libraries\n",
   "id": "7f5bc36aba332f8c"
  },
  {
   "metadata": {},
   "cell_type": "code",
   "outputs": [],
   "execution_count": null,
   "source": [
    "import pandas as pd\n",
    "import numpy as np\n",
    "import yfinance as yf\n",
    "import datetime"
   ],
   "id": "dcf61ed85c22108f"
  },
  {
   "metadata": {},
   "cell_type": "markdown",
   "source": "Defining the Custom DataFrame Creation Function\n",
   "id": "1e8c14d2f833ef42"
  },
  {
   "metadata": {},
   "cell_type": "code",
   "outputs": [],
   "execution_count": null,
   "source": [
    "# Function to create the custom DataFrame\n",
    "def create_custom_df(start_date, end_date, finder_indexes, nasdaq_etfs, days, market_caps, primary_market_caps, most_frequent_tickers):\n",
    "    # Convert start_date and end_date to datetime64[ns]\n",
    "    start_date = pd.to_datetime(start_date)\n",
    "    end_date = pd.to_datetime(end_date)\n",
    "    \n",
    "    # Filter days DataFrame to the specified date range\n",
    "    filtered_days = days[(days['Date'] >= start_date) & (days['Date'] <= end_date)].copy()\n",
    "\n",
    "    # Initialize the custom DataFrame with the filtered days\n",
    "    custom_df = pd.DataFrame(filtered_days['Date'], columns=['Date'])\n",
    "\n",
    "    # Ensure the 'Date' column in the custom_df and all relevant DataFrames is datetime64[ns]\n",
    "    custom_df['Date'] = pd.to_datetime(custom_df['Date'])\n",
    "    \n",
    "    # Add Finder sector indexes data\n",
    "    for index in finder_indexes:\n",
    "        index_sheet = index if index.endswith('_MC') else f'{index}_MC'\n",
    "        index_name = index.replace('_MC', '')\n",
    "        if index_sheet in primary_market_caps:\n",
    "            df_index = primary_market_caps[index_sheet]\n",
    "            if 'Date' not in df_index.columns:\n",
    "                print(f\"Error: 'Date' column not found in sheet {index_sheet}\")\n",
    "                continue\n",
    "            df_index['Date'] = pd.to_datetime(df_index['Date'])\n",
    "            if 'index' in df_index.columns:\n",
    "                df_index = df_index[['Date', 'index']]\n",
    "                df_index = df_index.rename(columns={'index': f'Finder {index_name}'})\n",
    "            elif index in df_index.columns:\n",
    "                df_index = df_index[['Date', index]]\n",
    "                df_index = df_index.rename(columns={index: f'Finder {index_name}'})\n",
    "            else:\n",
    "                print(f\"Warning: Column {index} not found in sheet {index_sheet}\")\n",
    "                continue\n",
    "            print(f\"Merging {index_sheet} with {len(df_index)} rows\")\n",
    "            custom_df = custom_df.merge(df_index, on='Date', how='left')\n",
    "\n",
    "            # Add the most frequent ticker data\n",
    "            if index_sheet in most_frequent_tickers:\n",
    "                most_frequent_ticker = most_frequent_tickers[index_sheet]\n",
    "                try:\n",
    "                    ticker_data = yf.download(most_frequent_ticker, start=start_date, end=end_date, interval='1d')\n",
    "                    if 'Date' not in ticker_data.columns:\n",
    "                        ticker_data.reset_index(inplace=True)\n",
    "                    print(f\"Merging Ticker {most_frequent_ticker}-{index_name} with {len(ticker_data)} rows\")\n",
    "                    custom_df = custom_df.merge(ticker_data[['Date', 'Close']], on='Date', how='left')\n",
    "                    custom_df.rename(columns={'Close': f'{most_frequent_ticker}-{index_name}'}, inplace=True)\n",
    "                except Exception as e:\n",
    "                    print(f\"Failed to download data for ticker {most_frequent_ticker}: {e}\")\n",
    "\n",
    "    # Add NASDAQ sector ETFs data\n",
    "    for etf, etf_name in nasdaq_etfs.items():\n",
    "        try:\n",
    "            etf_data = yf.download(etf, start=start_date, end=end_date, interval='1d')\n",
    "            if 'Date' not in etf_data.columns:\n",
    "                etf_data.reset_index(inplace=True)\n",
    "            print(f\"Merging ETF NASDAQ {etf_name} with {len(etf_data)} rows\")\n",
    "            custom_df = custom_df.merge(etf_data[['Date', 'Close']], on='Date', how='left')\n",
    "            custom_df.rename(columns={'Close': f'NASDAQ {etf_name}'}, inplace=True)\n",
    "        except Exception as e:\n",
    "            print(f\"Failed to download data for ETF {etf}: {e}\")\n",
    "\n",
    "    # Remove rows where all elements are NaN except the 'Date' column\n",
    "    custom_df = custom_df.dropna(how='all', subset=custom_df.columns.difference(['Date']))\n",
    "\n",
    "    return custom_df\n"
   ],
   "id": "3b84966049c10ef"
  },
  {
   "metadata": {},
   "cell_type": "markdown",
   "source": "Defining the Normalization Function\n",
   "id": "bf93602a725672c4"
  },
  {
   "metadata": {},
   "cell_type": "code",
   "outputs": [],
   "execution_count": null,
   "source": [
    "def normalize_dataframe(df):\n",
    "    normalized_df = df.copy()\n",
    "    for column in df.columns:\n",
    "        if column != 'Date':\n",
    "            initial_index = df[column].first_valid_index()\n",
    "            if initial_index is None:\n",
    "                print(f\"No valid data for {column}. Skipping normalization for this column.\")\n",
    "                normalized_df[column] = np.nan\n",
    "            else:\n",
    "                initial_value = df.at[initial_index, column]\n",
    "                normalized_df[column] = (df[column] / initial_value) * 100\n",
    "                normalized_df.at[initial_index, column] = 100  # Ensure the first valid value is set to 100\n",
    "    print(f\"Normalized DataFrame:\\n{normalized_df.head()}\")\n",
    "    return normalized_df\n"
   ],
   "id": "e459bee94fe626cd"
  },
  {
   "metadata": {},
   "cell_type": "markdown",
   "source": "Loading Data from Excel File\n",
   "id": "b884423d660d5c59"
  },
  {
   "metadata": {},
   "cell_type": "code",
   "outputs": [],
   "execution_count": null,
   "source": [
    "# Load data from the provided Excel file\n",
    "file_path = 'C:\\\\Users\\\\odeya.h\\\\SNC Dropbox\\\\Odeya Hazani Cohen\\\\פרוייקט\\\\calculate data.xlsx'\n",
    "xl = pd.ExcelFile(file_path)\n",
    "\n",
    "# Read necessary sheets into DataFrames\n",
    "market_caps = xl.parse('Overall Market Caps_MC')\n",
    "\n",
    "# Extract primary categories and their market caps, excluding 'Failed Indexes', 'Failed Tickers', 'NASDAQ Index ', and 'Overall Market Caps_MC'\n",
    "exclude_sheets = ['Failed Indexes', 'Failed Tickers', 'NASDAQ Index ', 'Overall Market Caps_MC']\n",
    "primary_market_caps = {sheet_name: xl.parse(sheet_name) for sheet_name in xl.sheet_names if sheet_name not in exclude_sheets}\n",
    "\n",
    "# Ensure the 'Date' column in all DataFrames is datetime64[ns]\n",
    "for key in primary_market_caps:\n",
    "    if 'Date' not in primary_market_caps[key].columns:\n",
    "        print(f\"Warning: 'Date' column not found in sheet {key}\")\n",
    "    primary_market_caps[key]['Date'] = pd.to_datetime(primary_market_caps[key]['Date'])\n"
   ],
   "id": "26d0b540beb8368d"
  },
  {
   "metadata": {},
   "cell_type": "markdown",
   "source": "Creating the Days DataFrame and Defining Sector Indexes and ETFs\n",
   "id": "8dea95ff366935fe"
  },
  {
   "metadata": {},
   "cell_type": "code",
   "outputs": [],
   "execution_count": null,
   "source": [
    "# Create a DataFrame with all dates\n",
    "start_date = datetime.date(2019, 1, 1)\n",
    "end_date = datetime.date(2024, 6, 1)\n",
    "days = pd.DataFrame(pd.date_range(start=start_date, end=end_date, freq='D', name='Date'))\n",
    "days['Date'] = pd.to_datetime(days['Date'])\n",
    "\n",
    "# Finder sector indexes\n",
    "finder_indexes = [\n",
    "    'Retail & Marketing_MC', 'Content & Media_MC', 'Enterprise, IT & Data Infras_MC', \n",
    "    'Security Technologies_MC', 'FinTech_MC', 'Industrial Technologies_MC', \n",
    "    'Smart Mobility_MC', 'Life Sciences & HealthTech_MC', 'Energy-tech_MC', \n",
    "    'Aerospace & Aviation_MC', 'AgriFood-tech & Water_MC'\n",
    "]\n",
    "\n",
    "# NASDAQ sector ETFs with full names\n",
    "nasdaq_etfs = {\n",
    "    'XRT': 'Retail & Marketing',\n",
    "    'PBS': 'Content & Media',\n",
    "    'QQQ': 'Enterprise, IT & Data Infras',\n",
    "    'CIBR': 'Security Technologies',\n",
    "    'FINX': 'FinTech',\n",
    "    'PRN': 'Industrial Technologies',\n",
    "    'IDRV': 'Smart Mobility',\n",
    "    'IBB': 'Life Sciences & HealthTech',\n",
    "    'QCLN': 'Energy-tech',\n",
    "    'PPA': 'Aerospace & Aviation',\n",
    "    'PHO': 'AgriFood-tech & Water'\n",
    "}\n"
   ],
   "id": "a2faf472565e9c99"
  },
  {
   "metadata": {},
   "cell_type": "markdown",
   "source": "Finding the Most Frequent Tickers\n",
   "id": "81de44613e0e3208"
  },
  {
   "metadata": {},
   "cell_type": "code",
   "outputs": [],
   "execution_count": null,
   "source": [
    "# Dictionary to store the most frequent tickers\n",
    "most_frequent_tickers = {}\n",
    "\n",
    "# Find the most frequent ticker in the 'highest value ticker' column for each Finder sector\n",
    "for sheet_name in finder_indexes:\n",
    "    df = xl.parse(sheet_name)\n",
    "    if 'highest value ticker' in df.columns:\n",
    "        most_frequent_ticker = df['highest value ticker'].mode()[0]\n",
    "        most_frequent_tickers[sheet_name] = most_frequent_ticker\n"
   ],
   "id": "4431190e9eb77192"
  },
  {
   "metadata": {},
   "cell_type": "markdown",
   "source": "Creating the Custom DataFrame and Normalizing It\n",
   "id": "b353ebf28d6899d1"
  },
  {
   "metadata": {},
   "cell_type": "code",
   "outputs": [],
   "execution_count": null,
   "source": [
    "# Create the custom DataFrame based on user input\n",
    "custom_df = create_custom_df(start_date, end_date, finder_indexes, nasdaq_etfs, days, market_caps, primary_market_caps, most_frequent_tickers)\n",
    "\n",
    "print(f\"Custom DataFrame before normalization:\\n{custom_df.head()}\")\n",
    "normalized_df = normalize_dataframe(custom_df)\n"
   ],
   "id": "8bce90e0283b0362"
  },
  {
   "metadata": {},
   "cell_type": "markdown",
   "source": "Saving the DataFrames to an Excel File\n",
   "id": "285b5cbca87eb333"
  },
  {
   "metadata": {},
   "cell_type": "code",
   "outputs": [],
   "execution_count": null,
   "source": [
    "# Save the custom DataFrame to an Excel file\n",
    "output_file_path = 'custom_data_indexes_only_with_full_names.xlsx'\n",
    "with pd.ExcelWriter(output_file_path) as writer:\n",
    "    custom_df.to_excel(writer, sheet_name='Custom Data', index=False)\n",
    "    normalized_df.to_excel(writer, sheet_name='Normalized Data', index=False)\n",
    "\n",
    "print(f\"DataFrames have been saved to {output_file_path}\")\n"
   ],
   "id": "44a0a1747e7d0858"
  },
  {
   "metadata": {},
   "cell_type": "markdown",
   "source": "Saving DataFrames to Excel",
   "id": "3e0fc9c33202435b"
  },
  {
   "metadata": {},
   "cell_type": "code",
   "outputs": [],
   "execution_count": null,
   "source": [
    "output_path = 'C:\\\\Users\\\\odeya.h\\\\SNC Dropbox\\\\Odeya Hazani Cohen\\\\פרוייקט\\\\sector_data_2019.xlsx'\n",
    "with pd.ExcelWriter(output_path, engine='xlsxwriter') as writer:\n",
    "    custom_df.to_excel(writer, sheet_name='Custom Data', index=False)\n",
    "    normalized_df.to_excel(writer, sheet_name='Normalized Data', index=False)\n"
   ],
   "id": "cc0cd3dd83d4d935"
  },
  {
   "metadata": {},
   "cell_type": "markdown",
   "source": "Creating and Configuring the Chart",
   "id": "dfcfdccc2b820c0"
  },
  {
   "metadata": {},
   "cell_type": "code",
   "outputs": [],
   "execution_count": null,
   "source": [
    "# Create a chart object\n",
    "workbook  = writer.book\n",
    "worksheet = writer.sheets['Normalized Data']\n",
    "chart = workbook.add_chart({'type': 'line'})\n",
    "\n",
    "# Configure the series of the chart from the DataFrame data\n",
    "for i, column in enumerate(normalized_df.columns[1:]):  # Skip the 'Date' column\n",
    "    chart.add_series({\n",
    "        'name':       [worksheet.name, 0, i + 1],\n",
    "        'categories': [worksheet.name, 1, 0, len(normalized_df), 0],\n",
    "        'values':     [worksheet.name, 1, i + 1, len(normalized_df), i + 1],\n",
    "    })\n"
   ],
   "id": "912fe2231fff33be"
  },
  {
   "metadata": {},
   "cell_type": "markdown",
   "source": "Formatting the Chart",
   "id": "27ba2f227973b33"
  },
  {
   "metadata": {},
   "cell_type": "code",
   "outputs": [],
   "execution_count": null,
   "source": [
    "# Configure the chart title with professional formatting\n",
    "chart.set_title({\n",
    "    'name': 'Index Comparison',\n",
    "    'name_font': {\n",
    "        'bold': True,\n",
    "        'size': 14,\n",
    "        'name': 'Arial'\n",
    "    }\n",
    "})\n",
    "\n",
    "# Configure the chart axes with professional formatting and the new date format\n",
    "chart.set_x_axis({\n",
    "    'name': 'Date',\n",
    "    'date_axis': True,\n",
    "    'num_format': 'dd-mm-yyyy',\n",
    "    'name_font': {\n",
    "        'bold': True,\n",
    "        'size': 12,\n",
    "        'name': 'Arial'\n",
    "    },\n",
    "    'label_font': {\n",
    "        'size': 10,\n",
    "        'name': 'Arial'\n",
    "    },\n",
    "    'major_gridlines': {\n",
    "        'visible': True,\n",
    "        'line': {'width': 0.75, 'dash_type': 'dash'}\n",
    "    },\n",
    "    'minor_gridlines': {\n",
    "        'visible': True,\n",
    "        'line': {'width': 0.25, 'dash_type': 'dash'}\n",
    "    }\n",
    "})\n",
    "chart.set_y_axis({\n",
    "    'name': 'Normalized Value',\n",
    "    'name_font': {\n",
    "        'bold': True,\n",
    "        'size': 12,\n",
    "        'name': 'Arial'\n",
    "    },\n",
    "    'label_font': {\n",
    "        'size': 10,\n",
    "        'name': 'Arial'\n",
    "    },\n",
    "    'major_gridlines': {\n",
    "        'visible': True,\n",
    "        'line': {'width': 0.75, 'dash_type': 'dash'}\n",
    "    },\n",
    "    'minor_gridlines': {\n",
    "        'visible': True,\n",
    "        'line': {'width': 0.25, 'dash_type': 'dash'}\n",
    "    }\n",
    "})\n"
   ],
   "id": "c0f9d786142896f4"
  },
  {
   "metadata": {},
   "cell_type": "markdown",
   "source": "Customizing the Legend and Inserting the Chart",
   "id": "b6fa1c6da58829bd"
  },
  {
   "metadata": {},
   "cell_type": "code",
   "outputs": [],
   "execution_count": null,
   "source": [
    "# Customize the legend\n",
    "chart.set_legend({\n",
    "    'position': 'bottom',\n",
    "    'font': {\n",
    "        'size': 10,\n",
    "        'name': 'Arial'\n",
    "    }\n",
    "})\n",
    "\n",
    "# Adjust the chart size and positioning\n",
    "worksheet.insert_chart('G2', chart, {'x_offset': 25, 'y_offset': 10, 'x_scale': 1.5, 'y_scale': 1.5})\n"
   ],
   "id": "b49eee0a8b92b4cc"
  },
  {
   "metadata": {},
   "cell_type": "markdown",
   "source": "Print Confirmation Message",
   "id": "2a9d8fbd063b11ec"
  },
  {
   "metadata": {},
   "cell_type": "code",
   "outputs": [],
   "execution_count": null,
   "source": "print(f\"Custom data with graph has been saved to {output_path}\")",
   "id": "23f0947ab44dcab1"
  }
 ],
 "metadata": {
  "kernelspec": {
   "display_name": "Python 3",
   "language": "python",
   "name": "python3"
  },
  "language_info": {
   "codemirror_mode": {
    "name": "ipython",
    "version": 2
   },
   "file_extension": ".py",
   "mimetype": "text/x-python",
   "name": "python",
   "nbconvert_exporter": "python",
   "pygments_lexer": "ipython2",
   "version": "2.7.6"
  }
 },
 "nbformat": 4,
 "nbformat_minor": 5
}
