{
 "cells": [
  {
   "metadata": {},
   "cell_type": "markdown",
   "source": "Importing Libraries and Setting Directory",
   "id": "135cea82b06610ee"
  },
  {
   "cell_type": "code",
   "execution_count": null,
   "id": "initial_id",
   "metadata": {
    "collapsed": true
   },
   "outputs": [],
   "source": [
    "import time\n",
    "import datetime\n",
    "import pandas as pd\n",
    "import os\n",
    "import numpy as np\n",
    "import yfinance as yf\n",
    "\n",
    "# Set directory to where the Excel files are stored\n",
    "os.chdir('C:\\\\Users\\\\odeya.h\\\\SNC Dropbox\\\\Odeya Hazani Cohen\\\\פרוייקט')\n"
   ]
  },
  {
   "metadata": {},
   "cell_type": "markdown",
   "source": "Loading Data from Excel Files",
   "id": "f7e2cbc71437a016"
  },
  {
   "metadata": {},
   "cell_type": "code",
   "outputs": [],
   "execution_count": null,
   "source": [
    "nasdaq_startups = pd.read_excel('tickers.xlsx', 'nasdaq startups (2)')\n",
    "nasdaq_tickers = nasdaq_startups['ticker'].dropna().unique().tolist()\n",
    "indexes = pd.read_excel('tickers.xlsx', 'indexes')\n",
    "index_tickers = indexes['ticker'].dropna().unique().tolist()\n"
   ],
   "id": "2c64423b6e68c596"
  },
  {
   "metadata": {},
   "cell_type": "markdown",
   "source": "Defining Date Range and Creating Date DataFrame",
   "id": "60c346a6c99ba42a"
  },
  {
   "metadata": {},
   "cell_type": "code",
   "outputs": [],
   "execution_count": null,
   "source": [
    "start_date = '2019-01-01'\n",
    "end_date = '2024-06-1'\n",
    "\n",
    "# Create a DataFrame with all dates in the range\n",
    "days = pd.DataFrame(pd.date_range(start=start_date, end=end_date, freq='D', name='Date'))\n",
    "days['Date'] = pd.to_datetime(days['Date']).dt.date\n"
   ],
   "id": "15873e5c486e2072"
  },
  {
   "metadata": {},
   "cell_type": "markdown",
   "source": "Setting Up Excel Writer and DataFrames for Calculations",
   "id": "371a7ac20688e55e"
  },
  {
   "metadata": {},
   "cell_type": "code",
   "outputs": [],
   "execution_count": null,
   "source": [
    "# Excel writer to save outputs\n",
    "xlwriter = pd.ExcelWriter('calculate data.xlsx', engine='openpyxl')\n",
    "\n",
    "# DataFrame to store calculated market caps\n",
    "index_values = pd.DataFrame(days['Date'])\n",
    "original_values = pd.DataFrame(days['Date'])\n",
    "market_caps = pd.DataFrame(days['Date'])\n"
   ],
   "id": "9e5a2a2fb6815c90"
  },
  {
   "metadata": {},
   "cell_type": "markdown",
   "source": "Initializing Lists for Failed Tickers",
   "id": "18bc69c958fd1035"
  },
  {
   "metadata": {},
   "cell_type": "code",
   "outputs": [],
   "execution_count": null,
   "source": [
    "failed_indexes = []\n",
    "failed_tickers = []\n"
   ],
   "id": "ea9f84d12faf29b"
  },
  {
   "metadata": {},
   "cell_type": "markdown",
   "source": "Creating Dictionary for Market Cap DataFrames",
   "id": "38ed2967ad82801b"
  },
  {
   "metadata": {},
   "cell_type": "code",
   "outputs": [],
   "execution_count": null,
   "source": [
    "primary_categories = nasdaq_startups['primary'].unique()\n",
    "primary_market_caps = {category: pd.DataFrame(days['Date']) for category in primary_categories}\n"
   ],
   "id": "f17b83823161008c"
  },
  {
   "metadata": {},
   "cell_type": "markdown",
   "source": "Processing Index Data",
   "id": "96746699f9bf924f"
  },
  {
   "metadata": {},
   "cell_type": "code",
   "outputs": [],
   "execution_count": null,
   "source": [
    "for index_ticker in index_tickers:\n",
    "    try:\n",
    "        df_index = yf.download(index_ticker, start=start_date, end=end_date)\n",
    "        df_index.reset_index(inplace=True)\n",
    "        df_index['Date'] = pd.to_datetime(df_index['Date']).dt.date\n",
    "        index_values = index_values.merge(df_index[['Date', 'Adj Close']].rename(columns={'Adj Close': index_ticker}), on='Date', how='left')\n",
    "    except Exception as e:\n",
    "        failed_indexes.append(index_ticker)\n"
   ],
   "id": "bf0df5d99dd4da3a"
  },
  {
   "metadata": {},
   "cell_type": "markdown",
   "source": "Processing NASDAQ Ticker Data",
   "id": "125296926ee2f809"
  },
  {
   "metadata": {},
   "cell_type": "code",
   "outputs": [],
   "execution_count": null,
   "source": [
    "# Process NASDAQ ticker data\n",
    "for nasdaq_ticker in nasdaq_tickers:\n",
    "    try:\n",
    "        df_ticker = yf.download(nasdaq_ticker, start=start_date, end=end_date)\n",
    "        df_ticker.reset_index(inplace=True)\n",
    "        df_ticker['Date'] = pd.to_datetime(df_ticker['Date']).dt.date\n",
    "        shares = nasdaq_startups.loc[nasdaq_startups['ticker'] == nasdaq_ticker, 'shares_outstanding'].iloc[0]\n",
    "\n",
    "        # Store original and calculate market cap\n",
    "        original_values = original_values.merge(df_ticker[['Date', 'Adj Close']].rename(columns={'Adj Close': nasdaq_ticker}), on='Date', how='left')\n",
    "\n",
    "        df_ticker['Market Cap'] = df_ticker['Adj Close'] * shares\n",
    "        market_caps = market_caps.merge(df_ticker[['Date', 'Market Cap']].rename(columns={'Market Cap': nasdaq_ticker}), on='Date', how='left')\n",
    "\n",
    "        # Get the primary category for the current ticker\n",
    "        primary_category = nasdaq_startups.loc[nasdaq_startups['ticker'] == nasdaq_ticker, 'primary'].iloc[0]\n",
    "        primary_market_caps[primary_category] = primary_market_caps[primary_category].merge(\n",
    "            df_ticker[['Date', 'Market Cap']].rename(columns={'Market Cap': nasdaq_ticker}), on='Date', how='left')\n",
    "        \n",
    "    except Exception as e:\n",
    "        failed_tickers.append(nasdaq_ticker)\n"
   ],
   "id": "af76b6e21f2123a0"
  },
  {
   "metadata": {},
   "cell_type": "markdown",
   "source": "Defining Function to Process Each Primary Category DataFrame",
   "id": "c1bba51605fbf5fa"
  },
  {
   "metadata": {},
   "cell_type": "code",
   "outputs": [],
   "execution_count": null,
   "source": [
    "# Function to process each primary category DataFrame\n",
    "def process_category_df(df, category_name):\n",
    "    # Calculate the sum of values in each row, excluding the 'Date' column specifically\n",
    "    df['number of companies'] = df.drop('Date', axis=1).count(axis=1)\n",
    "    df['Total MC- Finder'] = df.select_dtypes(include=[np.number]).sum(axis=1)\n",
    "    \n",
    "    # Remove rows where the Total Market Cap column is zero \n",
    "    df_filtered = df[df['Total MC- Finder'] != 0]\n",
    "\n",
    "    # Initialize an empty list to store the summary values\n",
    "    summary_values = []\n",
    "\n",
    "    # Ensure df_filtered is a copy of the original DataFrame slice\n",
    "    df_filtered = df_filtered.copy()\n",
    "\n",
    "    # Get only the columns that are not 'Date' and not calculated columns\n",
    "    non_date_columns = df_filtered.columns.difference(['Date', 'Total MC- Finder', 'number of companies', 'new tickers sum', 'left tickers sum', 'MC without new companies', 'denominator', 'index'])\n",
    "\n",
    "    # Iterate over each row in the DataFrame\n",
    "    for i in range(len(df_filtered)):\n",
    "        row = df_filtered[non_date_columns].iloc[i]\n",
    "        \n",
    "        if i == 0:\n",
    "            relevant_cells = row.isnull()\n",
    "        else:\n",
    "            prev_row = df_filtered[non_date_columns].iloc[i - 1]\n",
    "            relevant_cells = row.notnull() & prev_row.isnull()\n",
    "        \n",
    "        summary_value = row[relevant_cells].sum()\n",
    "        summary_values.append(summary_value)\n",
    "\n",
    "    # Add the summary values as a new column using .loc\n",
    "    df_filtered.loc[:, 'new tickers sum'] = summary_values\n",
    "\n",
    "    # Initialize an empty list to store the summary values\n",
    "    summary_values = []\n",
    "\n",
    "    # Iterate over each row in the DataFrame\n",
    "    for i in range(len(df_filtered)):\n",
    "        row = df_filtered[non_date_columns].iloc[i]\n",
    "        \n",
    "        if i == 0:\n",
    "            relevant_cells = row.isnull()\n",
    "        else:\n",
    "            prev_row = df_filtered[non_date_columns].iloc[i - 1]\n",
    "            relevant_cells = row.isnull() & prev_row.notnull()\n",
    "        \n",
    "        summary_value = row[relevant_cells].sum()\n",
    "        summary_values.append(summary_value)\n",
    "\n",
    "    # Add the summary values as a new column using .loc\n",
    "    df_filtered.loc[:, 'left tickers sum'] = summary_values\n",
    "\n",
    "    # Set the value in 'left tickers sum', 'new tickers sum' at the first index to zero\n",
    "    df_filtered.loc[0, 'left tickers sum'] = 0\n",
    "    df_filtered.loc[0, 'new tickers sum'] = 0\n",
    "\n",
    "    # Adding 'MC without new companies' column\n",
    "    df_filtered['MC without new companies'] = df_filtered['Total MC- Finder'] - df_filtered['new tickers sum']\n",
    "\n",
    "    # Adding 'denominator' column\n",
    "    denominator = []\n",
    "    for i in range(len(df_filtered)):\n",
    "        row = df_filtered.iloc[i]\n",
    "        if i == 0:\n",
    "            denominator.append(1000000000)\n",
    "        else:\n",
    "            last_d = denominator[i-1]\n",
    "            calc = (last_d * df_filtered['Total MC- Finder'].iloc[i]) / df_filtered['MC without new companies'].iloc[i]\n",
    "            denominator.append(calc)\n",
    "\n",
    "    df_filtered.loc[:, 'denominator'] = denominator     \n",
    "\n",
    "    # Adding 'index' column\n",
    "    df_filtered['index'] = df_filtered['Total MC- Finder'] / df_filtered['denominator']\n",
    "\n",
    "    # Handle NaNs properly without filling them with zeros\n",
    "    df_filtered['highest value ticker'] = df_filtered[non_date_columns].apply(lambda x: x.idxmax() if not x.isnull().all() else np.nan, axis=1)\n",
    "    df_filtered['highest value level'] = df_filtered[non_date_columns].max(axis=1, skipna=True)\n",
    "    df_filtered['average'] = df_filtered[non_date_columns].mean(axis=1, skipna=True)\n",
    "    df_filtered['median'] = df_filtered[non_date_columns].median(axis=1, skipna=True)\n",
    "\n",
    "    # Write the processed DataFrame to a separate sheet\n",
    "    sheet_name = f'{category_name[:28]}_MC'  # Shorten to 28 characters and add _MC\n",
    "    df_filtered.to_excel(xlwriter, sheet_name=sheet_name, index=False)\n"
   ],
   "id": "7e911608284971a9"
  },
  {
   "metadata": {},
   "cell_type": "markdown",
   "source": "Processing and Saving Each Primary Category DataFrame",
   "id": "e806673de06e487b"
  },
  {
   "metadata": {},
   "cell_type": "code",
   "outputs": [],
   "execution_count": null,
   "source": [
    "for category, df in primary_market_caps.items():\n",
    "    process_category_df(df, category)\n"
   ],
   "id": "36e427f77db65a56"
  },
  {
   "metadata": {},
   "cell_type": "markdown",
   "source": "Processing and Saving Overall Market Caps",
   "id": "bdc7db97b26c491c"
  },
  {
   "metadata": {},
   "cell_type": "code",
   "outputs": [],
   "execution_count": null,
   "source": "process_category_df(market_caps, 'Overall Market Caps')",
   "id": "9a5e8602d18278bf"
  },
  {
   "metadata": {},
   "cell_type": "markdown",
   "source": "Writing DataFrames to Separate Sheets in Excel Workbook",
   "id": "69225972dd21ae1b"
  },
  {
   "metadata": {},
   "cell_type": "code",
   "outputs": [],
   "execution_count": null,
   "source": [
    "index_values.to_excel(xlwriter, sheet_name='NASDAQ Index', index=False)\n",
    "pd.DataFrame(failed_indexes, columns=['Failed Indexes']).to_excel(xlwriter, sheet_name='Failed Indexes')\n",
    "pd.DataFrame(failed_tickers, columns=['Failed Tickers']).to_excel(xlwriter, sheet_name='Failed Tickers')\n"
   ],
   "id": "649eaf8ffb375127"
  },
  {
   "metadata": {},
   "cell_type": "markdown",
   "source": "Closing the Excel Writer",
   "id": "137b62d44193d739"
  },
  {
   "metadata": {},
   "cell_type": "code",
   "outputs": [],
   "execution_count": null,
   "source": "xlwriter.close()",
   "id": "3bd357bcb36670f7"
  }
 ],
 "metadata": {
  "kernelspec": {
   "display_name": "Python 3",
   "language": "python",
   "name": "python3"
  },
  "language_info": {
   "codemirror_mode": {
    "name": "ipython",
    "version": 2
   },
   "file_extension": ".py",
   "mimetype": "text/x-python",
   "name": "python",
   "nbconvert_exporter": "python",
   "pygments_lexer": "ipython2",
   "version": "2.7.6"
  }
 },
 "nbformat": 4,
 "nbformat_minor": 5
}
